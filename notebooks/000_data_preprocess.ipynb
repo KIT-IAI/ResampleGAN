{
 "cells": [
  {
   "metadata": {},
   "cell_type": "code",
   "source": [
    "import pandas as pd\n",
    "from torch.utils.data import DataLoader\n",
    "import os"
   ],
   "id": "c6708233c6b4f307",
   "outputs": [],
   "execution_count": null
  },
  {
   "metadata": {},
   "cell_type": "code",
   "source": "batch_size = 16",
   "id": "c03cb9787e4d637a",
   "outputs": [],
   "execution_count": null
  },
  {
   "metadata": {},
   "cell_type": "markdown",
   "source": [
    "# Wind Data\n",
    "https://data.dtu.dk/articles/dataset/Data-Driven_Wind_Power_Forecast_SEST2021_/13286336?file=27527084"
   ],
   "id": "52bcb3cc159d4e1"
  },
  {
   "metadata": {},
   "cell_type": "code",
   "source": [
    "df = pd.read_csv(f\"../dataset/wind/Persistence_PRE05_H60_mn.csv\")\n",
    "if df.columns[0] == '' or pd.isna(df.columns[0]):\n",
    "        df = df.drop(df.columns[0], axis=1)\n",
    "columns = df.columns.tolist()\n",
    "num_timepoints = len([col for col in columns if col.startswith('Time_')])\n",
    "result_rows = []\n",
    "for _, row in df.iterrows():\n",
    "    for i in range(num_timepoints):\n",
    "        time_col = f'Time_{i}'\n",
    "        forecast_col = f'Forecasted_{i}'\n",
    "        observed_col = f'Observed_{i}'\n",
    "\n",
    "        if (time_col in row.index and\n",
    "            forecast_col in row.index and\n",
    "            observed_col in row.index and\n",
    "            pd.notna(row[time_col])):\n",
    "\n",
    "            result_rows.append({\n",
    "                'timestamp': row[time_col],\n",
    "                'forecasted': row[forecast_col] if pd.notna(row[forecast_col]) else 0,\n",
    "                'observed': row[observed_col] if pd.notna(row[observed_col]) else 0\n",
    "            })\n",
    "\n",
    "result_df = pd.DataFrame(result_rows)\n",
    "result_df['time'] = pd.to_datetime(result_df['timestamp'])\n",
    "result_df = result_df.sort_values('timestamp').reset_index(drop=True)\n",
    "result_df.set_index('time', inplace=True)\n",
    "result_df = result_df[\"2019-10-22\":\"2019-12-31 00:00:01\"][\"observed\"]\n",
    "result_df.to_csv(f\"../preprocessed/preprocessed/wind_1.csv\", index=True, header=True)"
   ],
   "id": "fbf30c763b3f5ac2",
   "outputs": [],
   "execution_count": null
  },
  {
   "metadata": {},
   "cell_type": "code",
   "source": [
    "df = pd.read_csv(f\"../dataset/wind/Persistence_PRE03_H60_m.csv\")\n",
    "if df.columns[0] == '' or pd.isna(df.columns[0]):\n",
    "        df = df.drop(df.columns[0], axis=1)\n",
    "columns = df.columns.tolist()\n",
    "num_timepoints = len([col for col in columns if col.startswith('Time_')])\n",
    "result_rows = []\n",
    "for _, row in df.iterrows():\n",
    "    for i in range(num_timepoints):\n",
    "        time_col = f'Time_{i}'\n",
    "        forecast_col = f'Forecasted_{i}'\n",
    "        observed_col = f'Observed_{i}'\n",
    "\n",
    "        if (time_col in row.index and\n",
    "            forecast_col in row.index and\n",
    "            observed_col in row.index and\n",
    "            pd.notna(row[time_col])):\n",
    "\n",
    "            result_rows.append({\n",
    "                'timestamp': row[time_col],\n",
    "                'forecasted': row[forecast_col] if pd.notna(row[forecast_col]) else 0,\n",
    "                'observed': row[observed_col] if pd.notna(row[observed_col]) else 0\n",
    "            })\n",
    "result_df = pd.DataFrame(result_rows)\n",
    "result_df['time'] = pd.to_datetime(result_df['timestamp'])\n",
    "result_df = result_df.sort_values('timestamp').reset_index(drop=True)\n",
    "result_df.set_index('time', inplace=True)\n",
    "result_df = result_df[\"2019-9-25\":\"2019-10-8 00:00:01\"][\"observed\"]\n",
    "result_df = result_df[~result_df.index.duplicated(keep=\"first\")]\n",
    "result_df.to_csv(f\"../preprocessed/preprocessed/wind_2.csv\", index=True, header=True)"
   ],
   "id": "a337ca64100293a1",
   "outputs": [],
   "execution_count": null
  },
  {
   "metadata": {},
   "cell_type": "markdown",
   "source": [
    "# PV-Live\n",
    "https://zenodo.org/records/15013388"
   ],
   "id": "e5517458c8f03dc9"
  },
  {
   "metadata": {},
   "cell_type": "code",
   "source": [
    "dataframes = []\n",
    "for month in range(1, 13):\n",
    "    month_str = f\"{month:02d}\"\n",
    "    filename = f\"../dataset/pv/tng00010_2023-{month_str}.tsv\"\n",
    "    df = pd.read_csv(filename, sep='\\t')\n",
    "    dataframes.append(df)\n",
    "    combined_df = pd.concat(dataframes, ignore_index=True)\n",
    "    combined_df.to_csv(\"../preprocessed/preprocessed/pv.csv\", index=False, encoding='utf-8')"
   ],
   "id": "c4d2cf17918d6414",
   "outputs": [],
   "execution_count": null
  },
  {
   "metadata": {},
   "cell_type": "markdown",
   "source": [
    "# WPuQ\n",
    "https://zenodo.org/records/5642902"
   ],
   "id": "b69a683f26a20fde"
  },
  {
   "metadata": {},
   "cell_type": "code",
   "source": [
    "df = pd.read_hdf('../dataset/electric/2018_data_1min.hdf5', key=\"NO_PV/SFH10/HEATPUMP\")\n",
    "df = df.dropna()\n",
    "df[\"time\"] = pd.to_datetime(df.index, unit=\"s\")\n",
    "df.set_index(\"time\", inplace=True)\n",
    "df = df[\"2018-05-06\":\"2018-12-31 00:00:00\"]\n",
    "df.to_csv(\"../preprocessed/preprocessed/electric.csv\", index=True)"
   ],
   "id": "fdb6a2ef78b603be",
   "outputs": [],
   "execution_count": null
  },
  {
   "metadata": {},
   "cell_type": "markdown",
   "source": [
    "# MPVBench\n",
    "https://github.com/KIT-IAI/MPVBench/tree/main?tab=readme-ov-file"
   ],
   "id": "72b0dccadc8e9139"
  },
  {
   "metadata": {},
   "cell_type": "code",
   "source": [
    "df = pd.read_csv(\"../dataset/p_watt_15min.csv\")\n",
    "df[\"time\"] = pd.to_datetime(df[\"time\"])\n",
    "df.set_index(\"time\", inplace=True)\n",
    "df.corr()"
   ],
   "id": "bf7cf68bd9bc0b89",
   "outputs": [],
   "execution_count": null
  },
  {
   "metadata": {},
   "cell_type": "markdown",
   "source": "# Special Waveform",
   "id": "d68e82cea8ed55cb"
  },
  {
   "metadata": {},
   "cell_type": "code",
   "source": [
    "from ResampleGAN.utils.WaveformGenerator import create_special_wave_dataset\n",
    "create_special_wave_dataset(\"../dataset/special_wave_triangle.csv\", length=105120, freq=400, amplitude=1.0, wave_type=\"triangle\")\n",
    "create_special_wave_dataset(\"../dataset/special_wave_square.csv\", length=105120, freq=400, amplitude=1.0, wave_type=\"square\")\n",
    "create_special_wave_dataset(\"../dataset/special_wave_sawtooth.csv\", length=105120, freq=400, amplitude=1.0, wave_type=\"sawtooth\")\n",
    "create_special_wave_dataset(\"../dataset/special_wave_line.csv\", length=105120, freq=400, amplitude=1.0, wave_type=\"line\")\n",
    "create_special_wave_dataset(\"../dataset/special_wave_sine.csv\", length=105120, freq=400, amplitude=1.0, wave_type=\"sine\")"
   ],
   "id": "20ba6b7a0338f5c5",
   "outputs": [],
   "execution_count": null
  },
  {
   "metadata": {},
   "cell_type": "markdown",
   "source": "# Dataset Generator",
   "id": "32f0e38c3ba39b72"
  },
  {
   "metadata": {},
   "cell_type": "code",
   "source": "from ResampleGAN.utils.DatasetGenerator import DatasetGenerator, get_aligned_input_output",
   "id": "152fac4dcffcb7ef",
   "outputs": [],
   "execution_count": null
  },
  {
   "metadata": {},
   "cell_type": "code",
   "source": [
    "df = pd.read_csv(\"../dataset/special_wave_line.csv\")\n",
    "df[\"time\"] = pd.to_datetime(df[\"time\"])\n",
    "df.set_index(\"time\", inplace=True)\n",
    "df = df[[\"value\"]]\n",
    "\n",
    "df_input, df_output = get_aligned_input_output(df, s_in=\"15min\", s_out=\"5min\")\n",
    "\n",
    "dataset = DatasetGenerator(\n",
    "    df_input=df_input,\n",
    "    df_output=df_output,\n",
    "    input_length=97,\n",
    "    output_length=289,\n",
    "    s_in=\"15min\",\n",
    "    s_out=\"5min\",\n",
    "    use_window=True\n",
    ")\n",
    "\n",
    "train_dataset, test_dataset, valid_dataset = DatasetGenerator.split_dataset(dataset)\n",
    "train_loader = DataLoader(train_dataset, batch_size=batch_size, shuffle=True)\n",
    "test_loader = DataLoader(test_dataset, batch_size=batch_size, shuffle=False)\n",
    "valid_loader = DataLoader(valid_dataset, batch_size=batch_size, shuffle=False)"
   ],
   "id": "initial_id",
   "outputs": [],
   "execution_count": null
  },
  {
   "metadata": {},
   "cell_type": "code",
   "source": "",
   "id": "1cf928eb2d85bb9b",
   "outputs": [],
   "execution_count": null
  }
 ],
 "metadata": {
  "kernelspec": {
   "display_name": "Python 3",
   "language": "python",
   "name": "python3"
  },
  "language_info": {
   "codemirror_mode": {
    "name": "ipython",
    "version": 2
   },
   "file_extension": ".py",
   "mimetype": "text/x-python",
   "name": "python",
   "nbconvert_exporter": "python",
   "pygments_lexer": "ipython2",
   "version": "2.7.6"
  }
 },
 "nbformat": 4,
 "nbformat_minor": 5
}
