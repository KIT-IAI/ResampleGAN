{
 "cells": [
  {
   "metadata": {
    "ExecuteTime": {
     "end_time": "2025-06-30T13:21:29.161796Z",
     "start_time": "2025-06-30T13:21:27.976912Z"
    }
   },
   "cell_type": "code",
   "source": [
    "import pandas as pd\n",
    "import pingouin as pg"
   ],
   "id": "aee5437d4501a1e5",
   "outputs": [],
   "execution_count": 1
  },
  {
   "metadata": {
    "ExecuteTime": {
     "end_time": "2025-06-30T13:21:29.268946Z",
     "start_time": "2025-06-30T13:21:29.262451Z"
    }
   },
   "cell_type": "code",
   "source": [
    "indicators = [\"RMSE\", \"PCC\"]\n",
    "models = [\"self\",\"conv\",\"self+conv\",\"self_conv\"]\n",
    "phases = [\"phase 1\", \"phase 2\", \"phase 3\"]\n",
    "sets = [\"train\",\"test\"]\n",
    "waveforms = [\"electric\",\"pv\",\"wind\",\"mpv\"]\n",
    "cols = [\"pval\",\"diff\"]\n",
    "multi_index = pd.MultiIndex.from_product([indicators, models, phases, phases])\n",
    "multi_columns = pd.MultiIndex.from_product([waveforms, sets, cols])\n",
    "df_result = pd.DataFrame(index=multi_index, columns=multi_columns)\n",
    "df_result = df_result.sort_index()"
   ],
   "id": "7d4cdbbdf7ece68a",
   "outputs": [],
   "execution_count": 2
  },
  {
   "metadata": {
    "ExecuteTime": {
     "end_time": "2025-06-30T13:21:33.774287Z",
     "start_time": "2025-06-30T13:21:29.290937Z"
    }
   },
   "cell_type": "code",
   "source": [
    "for waveform in waveforms:\n",
    "    df = pd.read_csv(f\"../results/002_all/backup/features_{waveform}.csv\", header=[0, 1], index_col=[0, 1, 2])\n",
    "    for indicator in indicators:\n",
    "        for model in models:\n",
    "            for set in sets:\n",
    "                filtered_df = df[(df.index.get_level_values(0) == indicator) & (df.index.get_level_values(2) == model)].loc[:, (df.columns.get_level_values(1) == set)]\n",
    "                melted_df = filtered_df.melt(var_name='category', value_name='value', ignore_index=False)\n",
    "                melted_df = melted_df.reset_index()\n",
    "                welch_anova_results = pg.welch_anova(data=melted_df, dv='value', between='level_1')\n",
    "                games_howell_results = pg.pairwise_gameshowell(data=melted_df, dv='value', between='level_1', effsize='hedges')\n",
    "                for i in range(games_howell_results.shape[0]):\n",
    "                    priority_order = ['phase 3', 'phase 2']\n",
    "\n",
    "                    A_val = games_howell_results[\"A\"][i]\n",
    "                    B_val = games_howell_results[\"B\"][i]\n",
    "\n",
    "                    A_priority = priority_order.index(A_val) if A_val in priority_order else float('inf')\n",
    "                    B_priority = priority_order.index(B_val) if B_val in priority_order else float('inf')\n",
    "\n",
    "                    if A_priority <= B_priority:\n",
    "                        index_3 = A_val\n",
    "                        index_4 = B_val\n",
    "                        diff_value = games_howell_results.loc[i, \"diff\"]\n",
    "                    else:\n",
    "                        index_3 = B_val\n",
    "                        index_4 = A_val\n",
    "                        diff_value = -games_howell_results.loc[i, \"diff\"]\n",
    "\n",
    "                    pval_value = games_howell_results.loc[i, \"pval\"]\n",
    "\n",
    "                    df_result.loc[(indicator, model, index_3, index_4), (waveform, set, \"pval\")] = pval_value\n",
    "                    df_result.loc[(indicator, model, index_3, index_4), (waveform, set, \"diff\")] = diff_value\n",
    "df_result.dropna(inplace=True)\n",
    "df_result.to_excel(f\"../results/002_all/backup/phase_pval.xlsx\")"
   ],
   "id": "8640a5dc043c4791",
   "outputs": [],
   "execution_count": 3
  },
  {
   "metadata": {
    "ExecuteTime": {
     "end_time": "2025-06-30T13:21:33.805802Z",
     "start_time": "2025-06-30T13:21:33.799341Z"
    }
   },
   "cell_type": "code",
   "source": [
    "indicators = [\"RMSE\", \"PCC\"]\n",
    "models = [\"self\",\"conv\",\"self+conv\",\"self_conv\",\"linear\"]\n",
    "phases = [\"phase 2\", \"phase 3\"]\n",
    "sets = [\"train\",\"test\"]\n",
    "waveforms = [\"electric\",\"pv\",\"wind\",\"mpv\"]\n",
    "cols = [\"pval\",\"diff\"]\n",
    "multi_index = pd.MultiIndex.from_product([indicators, phases, models, models])\n",
    "multi_columns = pd.MultiIndex.from_product([waveforms, sets, cols])\n",
    "df_result = pd.DataFrame(index=multi_index, columns=multi_columns)\n",
    "df_result = df_result.sort_index()"
   ],
   "id": "c768d7830b78e9c",
   "outputs": [],
   "execution_count": 4
  },
  {
   "metadata": {
    "ExecuteTime": {
     "end_time": "2025-06-30T13:21:36.766136Z",
     "start_time": "2025-06-30T13:21:33.827126Z"
    }
   },
   "cell_type": "code",
   "source": [
    "for waveform in waveforms:\n",
    "    df = pd.read_csv(f\"../results/002_all/backup/features_{waveform}.csv\", header=[0, 1], index_col=[0, 1, 2])\n",
    "    for indicator in indicators:\n",
    "        for phase in phases:\n",
    "            for set in sets:\n",
    "                filtered_df = df[(df.index.get_level_values(0) == indicator) & (df.index.get_level_values(1) == phase)].loc[:, (df.columns.get_level_values(1) == set)]\n",
    "                #####################################\n",
    "                static_df = df[(df.index.get_level_values(0) == indicator) & (df.index.get_level_values(1) == \"static\") & (df.index.get_level_values(2) == \"linear\")].loc[:, (df.columns.get_level_values(1) == set)]\n",
    "                current_index = static_df.index\n",
    "                level_1_values = current_index.get_level_values(1)\n",
    "                new_level_1_values = [phase] * len(level_1_values)\n",
    "                new_multi_index = pd.MultiIndex.from_arrays(\n",
    "                    [current_index.get_level_values(0), new_level_1_values, current_index.get_level_values(2)],\n",
    "                    names=current_index.names # 保持原来的级别名称\n",
    "                )\n",
    "                static_df.index = new_multi_index\n",
    "                filtered_df = pd.concat([filtered_df, static_df], axis=0)\n",
    "                ####################################\n",
    "                melted_df = filtered_df.melt(var_name='category', value_name='value', ignore_index=False)\n",
    "                melted_df = melted_df.reset_index()\n",
    "                welch_anova_results = pg.welch_anova(data=melted_df, dv='value', between='level_2')\n",
    "                if welch_anova_results.loc[0, \"p-unc\"] < 0.05:\n",
    "                    print(f\"{indicator}, {waveform}, {phase}, {set}, welch_anova significant\")\n",
    "                games_howell_results = pg.pairwise_gameshowell(data=melted_df, dv='value', between='level_2', effsize='hedges')\n",
    "                for i in range(games_howell_results.shape[0]):\n",
    "                    priority_order = ['self_conv', 'self+conv', 'conv']\n",
    "\n",
    "                    A_val = games_howell_results[\"A\"][i]\n",
    "                    B_val = games_howell_results[\"B\"][i]\n",
    "\n",
    "                    A_priority = priority_order.index(A_val) if A_val in priority_order else float('inf')\n",
    "                    B_priority = priority_order.index(B_val) if B_val in priority_order else float('inf')\n",
    "\n",
    "                    if A_priority <= B_priority:\n",
    "                        index_3 = A_val\n",
    "                        index_4 = B_val\n",
    "                        diff_value = games_howell_results.loc[i, \"diff\"]\n",
    "                    else:\n",
    "                        index_3 = B_val\n",
    "                        index_4 = A_val\n",
    "                        diff_value = -games_howell_results.loc[i, \"diff\"]\n",
    "\n",
    "                    pval_value = games_howell_results.loc[i, \"pval\"]\n",
    "\n",
    "                    df_result.loc[(indicator, phase, index_3, index_4), (waveform, set, \"pval\")] = pval_value\n",
    "                    df_result.loc[(indicator, phase, index_3, index_4), (waveform, set, \"diff\")] = diff_value\n",
    "df_result.dropna(inplace=True)\n",
    "df_result.to_excel(f\"../results/002_all/backup/structure_pval.xlsx\")"
   ],
   "id": "a3b88e1e398778b6",
   "outputs": [
    {
     "name": "stderr",
     "output_type": "stream",
     "text": [
      "C:\\Workspace\\Code\\resamplegan\\.venv\\Lib\\site-packages\\pingouin\\parametric.py:1346: RuntimeWarning: invalid value encountered in scalar divide\n",
      "  adj_grandmean = (weights * grp.mean(numeric_only=True)).sum() / weights.sum()\n",
      "C:\\Workspace\\Code\\resamplegan\\.venv\\Lib\\site-packages\\pingouin\\parametric.py:1346: RuntimeWarning: invalid value encountered in scalar divide\n",
      "  adj_grandmean = (weights * grp.mean(numeric_only=True)).sum() / weights.sum()\n",
      "C:\\Workspace\\Code\\resamplegan\\.venv\\Lib\\site-packages\\pingouin\\parametric.py:1346: RuntimeWarning: invalid value encountered in scalar divide\n",
      "  adj_grandmean = (weights * grp.mean(numeric_only=True)).sum() / weights.sum()\n",
      "C:\\Workspace\\Code\\resamplegan\\.venv\\Lib\\site-packages\\pingouin\\parametric.py:1346: RuntimeWarning: invalid value encountered in scalar divide\n",
      "  adj_grandmean = (weights * grp.mean(numeric_only=True)).sum() / weights.sum()\n",
      "C:\\Workspace\\Code\\resamplegan\\.venv\\Lib\\site-packages\\pingouin\\parametric.py:1346: RuntimeWarning: invalid value encountered in scalar divide\n",
      "  adj_grandmean = (weights * grp.mean(numeric_only=True)).sum() / weights.sum()\n",
      "C:\\Workspace\\Code\\resamplegan\\.venv\\Lib\\site-packages\\pingouin\\parametric.py:1346: RuntimeWarning: invalid value encountered in scalar divide\n",
      "  adj_grandmean = (weights * grp.mean(numeric_only=True)).sum() / weights.sum()\n",
      "C:\\Workspace\\Code\\resamplegan\\.venv\\Lib\\site-packages\\pingouin\\parametric.py:1346: RuntimeWarning: invalid value encountered in scalar divide\n",
      "  adj_grandmean = (weights * grp.mean(numeric_only=True)).sum() / weights.sum()\n",
      "C:\\Workspace\\Code\\resamplegan\\.venv\\Lib\\site-packages\\pingouin\\parametric.py:1346: RuntimeWarning: invalid value encountered in scalar divide\n",
      "  adj_grandmean = (weights * grp.mean(numeric_only=True)).sum() / weights.sum()\n",
      "C:\\Workspace\\Code\\resamplegan\\.venv\\Lib\\site-packages\\pingouin\\parametric.py:1346: RuntimeWarning: invalid value encountered in scalar divide\n",
      "  adj_grandmean = (weights * grp.mean(numeric_only=True)).sum() / weights.sum()\n",
      "C:\\Workspace\\Code\\resamplegan\\.venv\\Lib\\site-packages\\pingouin\\parametric.py:1346: RuntimeWarning: invalid value encountered in scalar divide\n",
      "  adj_grandmean = (weights * grp.mean(numeric_only=True)).sum() / weights.sum()\n",
      "C:\\Workspace\\Code\\resamplegan\\.venv\\Lib\\site-packages\\pingouin\\parametric.py:1346: RuntimeWarning: invalid value encountered in scalar divide\n",
      "  adj_grandmean = (weights * grp.mean(numeric_only=True)).sum() / weights.sum()\n",
      "C:\\Workspace\\Code\\resamplegan\\.venv\\Lib\\site-packages\\pingouin\\parametric.py:1346: RuntimeWarning: invalid value encountered in scalar divide\n",
      "  adj_grandmean = (weights * grp.mean(numeric_only=True)).sum() / weights.sum()\n",
      "C:\\Workspace\\Code\\resamplegan\\.venv\\Lib\\site-packages\\pingouin\\parametric.py:1346: RuntimeWarning: invalid value encountered in scalar divide\n",
      "  adj_grandmean = (weights * grp.mean(numeric_only=True)).sum() / weights.sum()\n",
      "C:\\Workspace\\Code\\resamplegan\\.venv\\Lib\\site-packages\\pingouin\\parametric.py:1346: RuntimeWarning: invalid value encountered in scalar divide\n",
      "  adj_grandmean = (weights * grp.mean(numeric_only=True)).sum() / weights.sum()\n",
      "C:\\Workspace\\Code\\resamplegan\\.venv\\Lib\\site-packages\\pingouin\\parametric.py:1346: RuntimeWarning: invalid value encountered in scalar divide\n",
      "  adj_grandmean = (weights * grp.mean(numeric_only=True)).sum() / weights.sum()\n",
      "C:\\Workspace\\Code\\resamplegan\\.venv\\Lib\\site-packages\\pingouin\\parametric.py:1346: RuntimeWarning: invalid value encountered in scalar divide\n",
      "  adj_grandmean = (weights * grp.mean(numeric_only=True)).sum() / weights.sum()\n",
      "C:\\Workspace\\Code\\resamplegan\\.venv\\Lib\\site-packages\\pingouin\\parametric.py:1346: RuntimeWarning: invalid value encountered in scalar divide\n",
      "  adj_grandmean = (weights * grp.mean(numeric_only=True)).sum() / weights.sum()\n",
      "C:\\Workspace\\Code\\resamplegan\\.venv\\Lib\\site-packages\\pingouin\\parametric.py:1346: RuntimeWarning: invalid value encountered in scalar divide\n",
      "  adj_grandmean = (weights * grp.mean(numeric_only=True)).sum() / weights.sum()\n",
      "C:\\Workspace\\Code\\resamplegan\\.venv\\Lib\\site-packages\\pingouin\\parametric.py:1346: RuntimeWarning: invalid value encountered in scalar divide\n",
      "  adj_grandmean = (weights * grp.mean(numeric_only=True)).sum() / weights.sum()\n",
      "C:\\Workspace\\Code\\resamplegan\\.venv\\Lib\\site-packages\\pingouin\\parametric.py:1346: RuntimeWarning: invalid value encountered in scalar divide\n",
      "  adj_grandmean = (weights * grp.mean(numeric_only=True)).sum() / weights.sum()\n",
      "C:\\Workspace\\Code\\resamplegan\\.venv\\Lib\\site-packages\\pingouin\\parametric.py:1346: RuntimeWarning: invalid value encountered in scalar divide\n",
      "  adj_grandmean = (weights * grp.mean(numeric_only=True)).sum() / weights.sum()\n",
      "C:\\Workspace\\Code\\resamplegan\\.venv\\Lib\\site-packages\\pingouin\\parametric.py:1346: RuntimeWarning: invalid value encountered in scalar divide\n",
      "  adj_grandmean = (weights * grp.mean(numeric_only=True)).sum() / weights.sum()\n",
      "C:\\Workspace\\Code\\resamplegan\\.venv\\Lib\\site-packages\\pingouin\\parametric.py:1346: RuntimeWarning: invalid value encountered in scalar divide\n",
      "  adj_grandmean = (weights * grp.mean(numeric_only=True)).sum() / weights.sum()\n",
      "C:\\Workspace\\Code\\resamplegan\\.venv\\Lib\\site-packages\\pingouin\\parametric.py:1346: RuntimeWarning: invalid value encountered in scalar divide\n",
      "  adj_grandmean = (weights * grp.mean(numeric_only=True)).sum() / weights.sum()\n",
      "C:\\Workspace\\Code\\resamplegan\\.venv\\Lib\\site-packages\\pingouin\\parametric.py:1346: RuntimeWarning: invalid value encountered in scalar divide\n",
      "  adj_grandmean = (weights * grp.mean(numeric_only=True)).sum() / weights.sum()\n",
      "C:\\Workspace\\Code\\resamplegan\\.venv\\Lib\\site-packages\\pingouin\\parametric.py:1346: RuntimeWarning: invalid value encountered in scalar divide\n",
      "  adj_grandmean = (weights * grp.mean(numeric_only=True)).sum() / weights.sum()\n",
      "C:\\Workspace\\Code\\resamplegan\\.venv\\Lib\\site-packages\\pingouin\\parametric.py:1346: RuntimeWarning: invalid value encountered in scalar divide\n",
      "  adj_grandmean = (weights * grp.mean(numeric_only=True)).sum() / weights.sum()\n",
      "C:\\Workspace\\Code\\resamplegan\\.venv\\Lib\\site-packages\\pingouin\\parametric.py:1346: RuntimeWarning: invalid value encountered in scalar divide\n",
      "  adj_grandmean = (weights * grp.mean(numeric_only=True)).sum() / weights.sum()\n",
      "C:\\Workspace\\Code\\resamplegan\\.venv\\Lib\\site-packages\\pingouin\\parametric.py:1346: RuntimeWarning: invalid value encountered in scalar divide\n",
      "  adj_grandmean = (weights * grp.mean(numeric_only=True)).sum() / weights.sum()\n",
      "C:\\Workspace\\Code\\resamplegan\\.venv\\Lib\\site-packages\\pingouin\\parametric.py:1346: RuntimeWarning: invalid value encountered in scalar divide\n",
      "  adj_grandmean = (weights * grp.mean(numeric_only=True)).sum() / weights.sum()\n",
      "C:\\Workspace\\Code\\resamplegan\\.venv\\Lib\\site-packages\\pingouin\\parametric.py:1346: RuntimeWarning: invalid value encountered in scalar divide\n",
      "  adj_grandmean = (weights * grp.mean(numeric_only=True)).sum() / weights.sum()\n",
      "C:\\Workspace\\Code\\resamplegan\\.venv\\Lib\\site-packages\\pingouin\\parametric.py:1346: RuntimeWarning: invalid value encountered in scalar divide\n",
      "  adj_grandmean = (weights * grp.mean(numeric_only=True)).sum() / weights.sum()\n"
     ]
    }
   ],
   "execution_count": 5
  },
  {
   "metadata": {
    "ExecuteTime": {
     "end_time": "2025-06-30T13:21:36.792347Z",
     "start_time": "2025-06-30T13:21:36.790801Z"
    }
   },
   "cell_type": "code",
   "source": "",
   "id": "59cb91528563e3f1",
   "outputs": [],
   "execution_count": null
  }
 ],
 "metadata": {
  "kernelspec": {
   "display_name": "Python 3",
   "language": "python",
   "name": "python3"
  },
  "language_info": {
   "codemirror_mode": {
    "name": "ipython",
    "version": 2
   },
   "file_extension": ".py",
   "mimetype": "text/x-python",
   "name": "python",
   "nbconvert_exporter": "python",
   "pygments_lexer": "ipython2",
   "version": "2.7.6"
  }
 },
 "nbformat": 4,
 "nbformat_minor": 5
}
