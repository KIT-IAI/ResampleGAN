{
 "cells": [
  {
   "cell_type": "code",
   "id": "18151ba017ba778e",
   "metadata": {
    "ExecuteTime": {
     "end_time": "2025-06-30T13:52:57.114251Z",
     "start_time": "2025-06-30T13:52:57.111027Z"
    }
   },
   "source": [
    "import os\n",
    "import pandas as pd\n",
    "import torch\n",
    "import pickle\n",
    "import time\n",
    "from torch.utils.data import DataLoader, ConcatDataset\n",
    "from typing import Dict, List, Tuple\n",
    "import simbench"
   ],
   "outputs": [],
   "execution_count": 16
  },
  {
   "metadata": {
    "ExecuteTime": {
     "end_time": "2025-06-30T13:52:57.154163Z",
     "start_time": "2025-06-30T13:52:57.151622Z"
    }
   },
   "cell_type": "code",
   "source": [
    "from ResampleGAN.core.TrainerFactory import TrainerFactory\n",
    "from ResampleGAN.core.TrainingConfig import TrainingConfig\n",
    "from ResampleGAN.core.TrainingUtils import TrainingUtils, quick_setup\n",
    "from ResampleGAN.utils.DatasetGenerator import DatasetGenerator"
   ],
   "id": "ea075c0f6637ce4d",
   "outputs": [],
   "execution_count": 17
  },
  {
   "metadata": {
    "ExecuteTime": {
     "end_time": "2025-06-30T13:52:57.286066Z",
     "start_time": "2025-06-30T13:52:57.176788Z"
    }
   },
   "cell_type": "code",
   "source": [
    "seed = 101\n",
    "TrainingUtils.set_seed(seed)"
   ],
   "id": "e84b42e960e8b2bb",
   "outputs": [],
   "execution_count": 18
  },
  {
   "metadata": {
    "ExecuteTime": {
     "end_time": "2025-06-30T13:52:57.302272Z",
     "start_time": "2025-06-30T13:52:57.299141Z"
    }
   },
   "cell_type": "code",
   "source": [
    "now = f\"Seed_{seed}\"\n",
    "base_dir = f\"../results/005_all/reform/{now}\"\n",
    "for phase in [1, 2, 3]:\n",
    "    phase_names = {1: \"generator\", 2: \"discriminator\", 3: \"generator\"}\n",
    "    os.makedirs(f\"{base_dir}/{phase}_{phase_names[phase]}\", exist_ok=True)"
   ],
   "id": "88411fc599448da4",
   "outputs": [],
   "execution_count": 19
  },
  {
   "metadata": {
    "ExecuteTime": {
     "end_time": "2025-06-30T13:52:57.360493Z",
     "start_time": "2025-06-30T13:52:57.328432Z"
    }
   },
   "cell_type": "code",
   "source": [
    "logger, device = quick_setup(seed=seed, log_file=\"joint_training.log\")\n",
    "os.environ[\"CUDA_LAUNCH_BLOCKING\"] = \"1\"\n",
    "\n",
    "training_strategy = \"skip\"  # \"skip\" or \"overwrite\"\n",
    "attention_types = {\n",
    "    # \"self\": [3, 0, 0],\n",
    "    # \"conv\": [0, 3, 0],\n",
    "    \"self+conv\": [3, 3, 0],\n",
    "    \"self_conv\": [3, 3, 0]\n",
    "}\n",
    "waveforms = [\"electric\", \"pv\", \"wind\", \"mpv\"]"
   ],
   "id": "d0a812f4668eb0ee",
   "outputs": [
    {
     "name": "stderr",
     "output_type": "stream",
     "text": [
      "2025-06-30 15:52:57,357 - INFO - Using device: cuda\n",
      "2025-06-30 15:52:57,358 - INFO - GPU: NVIDIA RTX 3500 Ada Generation Laptop GPU\n",
      "2025-06-30 15:52:57,358 - INFO - Memory: 12.0 GB\n"
     ]
    }
   ],
   "execution_count": 20
  },
  {
   "metadata": {
    "ExecuteTime": {
     "end_time": "2025-06-30T13:52:57.398314Z",
     "start_time": "2025-06-30T13:52:57.394425Z"
    }
   },
   "cell_type": "code",
   "source": [
    "def process_waveform(waveform, batch_size):\n",
    "    k, profile = waveform.split(\"_\", 1)\n",
    "    if k == \"p\":\n",
    "        df = Enet.profiles[\"load\"][[profile+\"_pload\"]].copy()\n",
    "    elif k == \"q\":\n",
    "        df = Enet.profiles[\"load\"][[profile+\"_qload\"]].copy()\n",
    "    elif k == \"pv\":\n",
    "        df = Enet.profiles[\"renewables\"][[profile]].copy()\n",
    "    else:\n",
    "        raise ValueError(\"type error\")\n",
    "\n",
    "    df_output = df.copy()\n",
    "    df_output[\"time\"] = pd.date_range(df.index[0], periods=len(df), freq=\"15min\")\n",
    "    df_output = df_output.set_index(\"time\")\n",
    "    df_input = df_output.resample(\"1h\").first().ffill()\n",
    "    dataset = DatasetGenerator(\n",
    "        df_input=df_input,\n",
    "        df_output=df_output,\n",
    "        input_length=25,\n",
    "        output_length=97,\n",
    "        s_in=\"1h\",\n",
    "        s_out=\"15min\",\n",
    "        use_window=True\n",
    "    )\n",
    "    train_dataset, test_dataset,_ = DatasetGenerator.split_dataset(dataset, train_ratio=0.6, test_ratio=0.4, valid_ratio=0.0, shuffle=False)\n",
    "    train_loader = DataLoader(train_dataset, batch_size=batch_size, shuffle=True)\n",
    "    test_loader = DataLoader(test_dataset, batch_size=batch_size, shuffle=False)\n",
    "\n",
    "    return train_loader, test_loader"
   ],
   "id": "82d28e352a923fe5",
   "outputs": [],
   "execution_count": 21
  },
  {
   "metadata": {
    "ExecuteTime": {
     "end_time": "2025-06-30T13:52:59.725810Z",
     "start_time": "2025-06-30T13:52:57.413335Z"
    }
   },
   "cell_type": "code",
   "source": [
    "code = '1-LV-rural1--1-sw'\n",
    "Enet = simbench.get_simbench_net(code)\n",
    "Enet.sgen = pd.concat([Enet.sgen, Enet.sgen.iloc[0:4]], ignore_index=True)\n",
    "Enet.sgen.loc[8, \"name\"] = \"LV1.101 SGen 9\"\n",
    "Enet.sgen.loc[9, \"name\"] = \"LV1.101 SGen 10\"\n",
    "Enet.sgen.loc[10, \"name\"] = \"LV1.101 SGen 11\"\n",
    "Enet.sgen.loc[11, \"name\"] = \"LV1.101 SGen 12\"\n",
    "\n",
    "Enet.sgen.loc[8, \"bus\"] = 12\n",
    "Enet.sgen.loc[9, \"bus\"] = 14\n",
    "Enet.sgen.loc[10, \"bus\"] = 6\n",
    "Enet.sgen.loc[11, \"bus\"] = 9\n",
    "# 2. Dimensionierung der Batteriespeicher beibehalten\n",
    "Enet.storage[\"max_p_mw\"] = -Enet.storage[\"min_p_mw\"]\n",
    "\n",
    "Enet.ext_grid['vm_pu'] = 1"
   ],
   "id": "8edbf255fd1ffa56",
   "outputs": [
    {
     "name": "stderr",
     "output_type": "stream",
     "text": [
      "C:\\Workspace\\Code\\resamplegan\\.venv\\Lib\\site-packages\\simbench\\converter\\csv_pp_converter.py:874: FutureWarning: The behavior of DataFrame concatenation with empty or all-NA entries is deprecated. In a future version, this will no longer exclude empty or all-NA columns when determining the result dtypes. To retain the old behavior, exclude the relevant entries before the concat operation.\n",
      "  output_data[output_name] = pd.concat([output_data[output_name], input_data[\n",
      "C:\\Workspace\\Code\\resamplegan\\.venv\\Lib\\site-packages\\simbench\\converter\\csv_pp_converter.py:874: FutureWarning: The behavior of DataFrame concatenation with empty or all-NA entries is deprecated. In a future version, this will no longer exclude empty or all-NA columns when determining the result dtypes. To retain the old behavior, exclude the relevant entries before the concat operation.\n",
      "  output_data[output_name] = pd.concat([output_data[output_name], input_data[\n",
      "C:\\Workspace\\Code\\resamplegan\\.venv\\Lib\\site-packages\\simbench\\converter\\csv_pp_converter.py:874: FutureWarning: The behavior of DataFrame concatenation with empty or all-NA entries is deprecated. In a future version, this will no longer exclude empty or all-NA columns when determining the result dtypes. To retain the old behavior, exclude the relevant entries before the concat operation.\n",
      "  output_data[output_name] = pd.concat([output_data[output_name], input_data[\n",
      "C:\\Workspace\\Code\\resamplegan\\.venv\\Lib\\site-packages\\simbench\\converter\\csv_pp_converter.py:874: FutureWarning: The behavior of DataFrame concatenation with empty or all-NA entries is deprecated. In a future version, this will no longer exclude empty or all-NA columns when determining the result dtypes. To retain the old behavior, exclude the relevant entries before the concat operation.\n",
      "  output_data[output_name] = pd.concat([output_data[output_name], input_data[\n",
      "C:\\Workspace\\Code\\resamplegan\\.venv\\Lib\\site-packages\\simbench\\converter\\csv_pp_converter.py:874: FutureWarning: The behavior of DataFrame concatenation with empty or all-NA entries is deprecated. In a future version, this will no longer exclude empty or all-NA columns when determining the result dtypes. To retain the old behavior, exclude the relevant entries before the concat operation.\n",
      "  output_data[output_name] = pd.concat([output_data[output_name], input_data[\n",
      "C:\\Workspace\\Code\\resamplegan\\.venv\\Lib\\site-packages\\simbench\\converter\\csv_pp_converter.py:874: FutureWarning: The behavior of DataFrame concatenation with empty or all-NA entries is deprecated. In a future version, this will no longer exclude empty or all-NA columns when determining the result dtypes. To retain the old behavior, exclude the relevant entries before the concat operation.\n",
      "  output_data[output_name] = pd.concat([output_data[output_name], input_data[\n"
     ]
    }
   ],
   "execution_count": 22
  },
  {
   "metadata": {
    "ExecuteTime": {
     "end_time": "2025-06-30T13:52:59.750748Z",
     "start_time": "2025-06-30T13:52:59.744692Z"
    }
   },
   "cell_type": "code",
   "source": [
    "profiles_load_p = []\n",
    "for i,profile in enumerate(Enet.load.profile.values):\n",
    "    profiles_load_p.append(Enet.profiles[\"load\"][profile+\"_pload\"].values[96:]*Enet.load[\"p_mw\"][i])\n",
    "\n",
    "profiles_load_q = []\n",
    "for i,profile in enumerate(Enet.load.profile.values):\n",
    "    profiles_load_q.append(Enet.profiles[\"load\"][profile+\"_qload\"].values[96:]*Enet.load[\"q_mvar\"][i])\n",
    "#     profiles_load_q.append(Enet.profiles[\"load\"][profile+\"_qload\"].values*0)\n",
    "profiles_pv_p = []\n",
    "for i,profile in enumerate(Enet.sgen.profile.values):\n",
    "    profiles_pv_p.append(Enet.profiles[\"renewables\"][profile].values[96:]*Enet.sgen[\"p_mw\"][i])"
   ],
   "id": "776615c6d76dcb0b",
   "outputs": [],
   "execution_count": 23
  },
  {
   "metadata": {
    "ExecuteTime": {
     "end_time": "2025-06-30T13:52:59.814316Z",
     "start_time": "2025-06-30T13:52:59.811395Z"
    }
   },
   "cell_type": "code",
   "source": "data = {\"p\":Enet.load.profile.drop_duplicates().values, \"q\":Enet.load.profile.drop_duplicates().values, \"pv\":Enet.sgen.profile.drop_duplicates().values}",
   "id": "d622fb0fccbbc8a3",
   "outputs": [],
   "execution_count": 24
  },
  {
   "metadata": {
    "ExecuteTime": {
     "end_time": "2025-06-30T13:52:59.850849Z",
     "start_time": "2025-06-30T13:52:59.848319Z"
    }
   },
   "cell_type": "code",
   "source": "waveforms = [f\"{key}_{value}\" for key, values in data.items() for value in values]",
   "id": "33d3a0b126e6fcd6",
   "outputs": [],
   "execution_count": 25
  },
  {
   "metadata": {
    "ExecuteTime": {
     "end_time": "2025-06-30T13:52:59.876544Z",
     "start_time": "2025-06-30T13:52:59.871031Z"
    }
   },
   "cell_type": "code",
   "source": [
    "def create_phase_config(phase: int, waveform: str, key: str, attention: List[int]) -> TrainingConfig:\n",
    "    \"\"\"Create training configuration for specified phase\"\"\"\n",
    "\n",
    "    # Set attention type\n",
    "    if key == \"self_conv\":\n",
    "        attention_type = [[\"original\"]*attention[0], [\"conv\"]*attention[1], [\"freq\"]*attention[2]]\n",
    "    else:\n",
    "        attention_type = [\"original\"]*attention[0] + [\"conv\"]*attention[1] + [\"freq\"]*attention[2]\n",
    "\n",
    "    # Adjust batch size\n",
    "    batch_size = 8 if waveform == \"wind\" else 16\n",
    "\n",
    "    # Set weights based on phase\n",
    "    if phase == 1:\n",
    "        weights = {\n",
    "            'mse': 1,\n",
    "            'smoothness': 1,\n",
    "            'gradient': 1,\n",
    "        }\n",
    "    else:  # phase 2 and 3\n",
    "        weights = {\n",
    "            'mse': 1,\n",
    "            'feature_space': 1,\n",
    "            'smoothness': 1,\n",
    "            'gradient': 1,\n",
    "        }\n",
    "\n",
    "    return TrainingConfig(\n",
    "        device=torch.device(\"cuda\" if torch.cuda.is_available() else \"cpu\"),\n",
    "        n_epochs=1,\n",
    "        batch_size=batch_size,\n",
    "        lr=2e-4,\n",
    "        weight_decay=0.01,\n",
    "        grad_clip_threshold=10,\n",
    "        dim_input=1,\n",
    "        dim_attention=128,\n",
    "        num_heads=4,\n",
    "        dim_feedforward=128,\n",
    "        dropout=0.1,\n",
    "        num_layers=6,\n",
    "        attention_type=attention_type,\n",
    "        with_bias=False,\n",
    "        weights=weights,\n",
    "        optimizer_type='AdamW',\n",
    "        scheduler_type='WarmupCosine',\n",
    "        lambda_gan=0.1,\n",
    "        critic=1,\n",
    "        use_early_stopping=False,\n",
    "        patience=10\n",
    "    )"
   ],
   "id": "e235841bd0449cd8",
   "outputs": [],
   "execution_count": 26
  },
  {
   "metadata": {
    "ExecuteTime": {
     "end_time": "2025-06-30T13:52:59.920508Z",
     "start_time": "2025-06-30T13:52:59.914350Z"
    }
   },
   "cell_type": "code",
   "source": [
    "def train_single_phase_experiment(phase: int, waveform: str, key: str, attention: List[int], now: str, training_strategy: str, logger) -> bool:\n",
    "    \"\"\"\n",
    "    Simplified function for training single phase experiment\n",
    "\n",
    "    Returns:\n",
    "        bool: Whether training was successful\n",
    "    \"\"\"\n",
    "\n",
    "    # Check if should skip\n",
    "    if training_strategy != \"overwrite\":\n",
    "        phase_names = {1: \"generator\", 2: \"discriminator\", 3: \"generator\"}\n",
    "        model_path = f\"../results/002_all/reform/{now}/{phase}_{phase_names[phase]}/best_generator_{key}_{waveform}_self_{attention[0]}_conv_{attention[1]}_freq_{attention[2]}.pth\"\n",
    "        if os.path.exists(model_path):\n",
    "            logger.info(f\"⏭️ Skip existing model: Phase {phase} - {key}_{waveform}\")\n",
    "            return True\n",
    "\n",
    "    start_time = time.time()\n",
    "    logger.info(f\"Start training Phase {phase}: {key}_{waveform} - {attention}\")\n",
    "\n",
    "    # Create configuration\n",
    "    config = create_phase_config(phase, waveform, key, attention)\n",
    "\n",
    "    # Create data loaders\n",
    "    train_loader, test_loader = process_waveform(waveform, config.batch_size)\n",
    "\n",
    "    # Set save directory\n",
    "    phase_names = {1: \"generator\", 2: \"discriminator\", 3: \"generator\"}\n",
    "    save_dir = f\"../results/002_all/reform/{now}/{phase}_{phase_names[phase]}\"\n",
    "    base_save_dir = f\"../results/002_all/reform/{now}\"\n",
    "\n",
    "    # Create trainer\n",
    "    trainer = TrainerFactory.create_trainer(phase, config, save_dir, logger, key, attention, waveform, now, base_save_dir)\n",
    "\n",
    "    # Start training\n",
    "    history = trainer.train(train_loader, test_loader)\n",
    "\n",
    "    # Save training history\n",
    "    history_filename = f\"losses_{key}_{waveform}_self_{attention[0]}_conv_{attention[1]}_freq_{attention[2]}.pkl\"\n",
    "    history_path = os.path.join(save_dir, history_filename)\n",
    "    with open(history_path, \"wb\") as f:\n",
    "        pickle.dump(history, f)\n",
    "\n",
    "    end_time = time.time()\n",
    "    execution_time = end_time - start_time\n",
    "    logger.info(f\"Phase {phase} - {key}_{waveform} training completed, time taken: {execution_time:.4f} seconds\")\n",
    "\n",
    "    return True"
   ],
   "id": "2182a4303c9737e9",
   "outputs": [],
   "execution_count": 27
  },
  {
   "metadata": {
    "ExecuteTime": {
     "end_time": "2025-06-30T13:52:59.982963Z",
     "start_time": "2025-06-30T13:52:59.956395Z"
    }
   },
   "cell_type": "code",
   "source": [
    "# Cell 6: Phase 1 - Generator Pretraining\n",
    "def run_phase1():\n",
    "    \"\"\"Execute Phase 1 training\"\"\"\n",
    "    logger.info(\"=\"*60)\n",
    "    logger.info(\"Starting Phase 1: Generator Pretraining\")\n",
    "    logger.info(\"=\"*60)\n",
    "\n",
    "    success_count = 0\n",
    "    total_experiments = len(waveforms) * len(attention_types)\n",
    "\n",
    "    for waveform in waveforms:\n",
    "        logger.info(f\"Processing waveform: {waveform}\")\n",
    "\n",
    "        for key, attention in attention_types.items():\n",
    "            success = train_single_phase_experiment(1, waveform, key, attention, now, training_strategy, logger)\n",
    "            if success:\n",
    "                success_count += 1\n",
    "\n",
    "    logger.info(f\"Phase 1 completed! Success rate: {success_count}/{total_experiments}\")\n",
    "    return success_count, total_experiments\n",
    "\n",
    "phase1_success, phase1_total = run_phase1()"
   ],
   "id": "ce1bac9e888f0555",
   "outputs": [
    {
     "name": "stderr",
     "output_type": "stream",
     "text": [
      "2025-06-30 15:52:59,958 - INFO - ============================================================\n",
      "2025-06-30 15:52:59,958 - INFO - Starting Phase 1: Generator Pretraining\n",
      "2025-06-30 15:52:59,958 - INFO - ============================================================\n",
      "2025-06-30 15:52:59,959 - INFO - Processing waveform: p_L2-A\n",
      "2025-06-30 15:52:59,959 - INFO - ⏭️ Skip existing model: Phase 1 - self+conv_p_L2-A\n",
      "2025-06-30 15:52:59,960 - INFO - ⏭️ Skip existing model: Phase 1 - self_conv_p_L2-A\n",
      "2025-06-30 15:52:59,960 - INFO - Processing waveform: p_H0-C\n",
      "2025-06-30 15:52:59,960 - INFO - ⏭️ Skip existing model: Phase 1 - self+conv_p_H0-C\n",
      "2025-06-30 15:52:59,961 - INFO - ⏭️ Skip existing model: Phase 1 - self_conv_p_H0-C\n",
      "2025-06-30 15:52:59,962 - INFO - Processing waveform: p_L1-A\n",
      "2025-06-30 15:52:59,962 - INFO - ⏭️ Skip existing model: Phase 1 - self+conv_p_L1-A\n",
      "2025-06-30 15:52:59,963 - INFO - ⏭️ Skip existing model: Phase 1 - self_conv_p_L1-A\n",
      "2025-06-30 15:52:59,964 - INFO - Processing waveform: p_H0-B\n",
      "2025-06-30 15:52:59,964 - INFO - ⏭️ Skip existing model: Phase 1 - self+conv_p_H0-B\n",
      "2025-06-30 15:52:59,965 - INFO - ⏭️ Skip existing model: Phase 1 - self_conv_p_H0-B\n",
      "2025-06-30 15:52:59,966 - INFO - Processing waveform: p_H0-A\n",
      "2025-06-30 15:52:59,966 - INFO - ⏭️ Skip existing model: Phase 1 - self+conv_p_H0-A\n",
      "2025-06-30 15:52:59,967 - INFO - ⏭️ Skip existing model: Phase 1 - self_conv_p_H0-A\n",
      "2025-06-30 15:52:59,967 - INFO - Processing waveform: p_Soil_Alternative_2\n",
      "2025-06-30 15:52:59,968 - INFO - ⏭️ Skip existing model: Phase 1 - self+conv_p_Soil_Alternative_2\n",
      "2025-06-30 15:52:59,968 - INFO - ⏭️ Skip existing model: Phase 1 - self_conv_p_Soil_Alternative_2\n",
      "2025-06-30 15:52:59,969 - INFO - Processing waveform: q_L2-A\n",
      "2025-06-30 15:52:59,969 - INFO - ⏭️ Skip existing model: Phase 1 - self+conv_q_L2-A\n",
      "2025-06-30 15:52:59,969 - INFO - ⏭️ Skip existing model: Phase 1 - self_conv_q_L2-A\n",
      "2025-06-30 15:52:59,970 - INFO - Processing waveform: q_H0-C\n",
      "2025-06-30 15:52:59,970 - INFO - ⏭️ Skip existing model: Phase 1 - self+conv_q_H0-C\n",
      "2025-06-30 15:52:59,971 - INFO - ⏭️ Skip existing model: Phase 1 - self_conv_q_H0-C\n",
      "2025-06-30 15:52:59,971 - INFO - Processing waveform: q_L1-A\n",
      "2025-06-30 15:52:59,971 - INFO - ⏭️ Skip existing model: Phase 1 - self+conv_q_L1-A\n",
      "2025-06-30 15:52:59,972 - INFO - ⏭️ Skip existing model: Phase 1 - self_conv_q_L1-A\n",
      "2025-06-30 15:52:59,973 - INFO - Processing waveform: q_H0-B\n",
      "2025-06-30 15:52:59,973 - INFO - ⏭️ Skip existing model: Phase 1 - self+conv_q_H0-B\n",
      "2025-06-30 15:52:59,974 - INFO - ⏭️ Skip existing model: Phase 1 - self_conv_q_H0-B\n",
      "2025-06-30 15:52:59,974 - INFO - Processing waveform: q_H0-A\n",
      "2025-06-30 15:52:59,975 - INFO - ⏭️ Skip existing model: Phase 1 - self+conv_q_H0-A\n",
      "2025-06-30 15:52:59,975 - INFO - ⏭️ Skip existing model: Phase 1 - self_conv_q_H0-A\n",
      "2025-06-30 15:52:59,976 - INFO - Processing waveform: q_Soil_Alternative_2\n",
      "2025-06-30 15:52:59,976 - INFO - ⏭️ Skip existing model: Phase 1 - self+conv_q_Soil_Alternative_2\n",
      "2025-06-30 15:52:59,977 - INFO - ⏭️ Skip existing model: Phase 1 - self_conv_q_Soil_Alternative_2\n",
      "2025-06-30 15:52:59,977 - INFO - Processing waveform: pv_PV5\n",
      "2025-06-30 15:52:59,977 - INFO - ⏭️ Skip existing model: Phase 1 - self+conv_pv_PV5\n",
      "2025-06-30 15:52:59,978 - INFO - ⏭️ Skip existing model: Phase 1 - self_conv_pv_PV5\n",
      "2025-06-30 15:52:59,978 - INFO - Processing waveform: pv_PV8\n",
      "2025-06-30 15:52:59,979 - INFO - ⏭️ Skip existing model: Phase 1 - self+conv_pv_PV8\n",
      "2025-06-30 15:52:59,979 - INFO - ⏭️ Skip existing model: Phase 1 - self_conv_pv_PV8\n",
      "2025-06-30 15:52:59,980 - INFO - Processing waveform: pv_PV6\n",
      "2025-06-30 15:52:59,980 - INFO - ⏭️ Skip existing model: Phase 1 - self+conv_pv_PV6\n",
      "2025-06-30 15:52:59,980 - INFO - ⏭️ Skip existing model: Phase 1 - self_conv_pv_PV6\n",
      "2025-06-30 15:52:59,981 - INFO - Phase 1 completed! Success rate: 30/30\n"
     ]
    }
   ],
   "execution_count": 28
  },
  {
   "metadata": {
    "ExecuteTime": {
     "end_time": "2025-06-30T13:53:00.041931Z",
     "start_time": "2025-06-30T13:53:00.017137Z"
    }
   },
   "cell_type": "code",
   "source": [
    "# Cell 7: Phase 2 - Joint Training\n",
    "def run_phase2():\n",
    "    \"\"\"Execute Phase 2 training\"\"\"\n",
    "    logger.info(\"=\"*60)\n",
    "    logger.info(\"Starting Phase 2: Joint Training\")\n",
    "    logger.info(\"=\"*60)\n",
    "\n",
    "    success_count = 0\n",
    "    total_experiments = len(waveforms) * len(attention_types)\n",
    "\n",
    "    for waveform in waveforms:\n",
    "        logger.info(f\"Processing waveform: {waveform}\")\n",
    "\n",
    "        for key, attention in attention_types.items():\n",
    "            success = train_single_phase_experiment(2, waveform, key, attention, now, training_strategy, logger)\n",
    "            if success:\n",
    "                success_count += 1\n",
    "\n",
    "    logger.info(f\"Phase 2 completed! Success rate: {success_count}/{total_experiments}\")\n",
    "    return success_count, total_experiments\n",
    "\n",
    "# Execute Phase 2\n",
    "phase2_success, phase2_total = run_phase2()"
   ],
   "id": "bebec3978bbe5c0f",
   "outputs": [
    {
     "name": "stderr",
     "output_type": "stream",
     "text": [
      "2025-06-30 15:53:00,019 - INFO - ============================================================\n",
      "2025-06-30 15:53:00,019 - INFO - Starting Phase 2: Joint Training\n",
      "2025-06-30 15:53:00,020 - INFO - ============================================================\n",
      "2025-06-30 15:53:00,020 - INFO - Processing waveform: p_L2-A\n",
      "2025-06-30 15:53:00,020 - INFO - ⏭️ Skip existing model: Phase 2 - self+conv_p_L2-A\n",
      "2025-06-30 15:53:00,021 - INFO - ⏭️ Skip existing model: Phase 2 - self_conv_p_L2-A\n",
      "2025-06-30 15:53:00,022 - INFO - Processing waveform: p_H0-C\n",
      "2025-06-30 15:53:00,022 - INFO - ⏭️ Skip existing model: Phase 2 - self+conv_p_H0-C\n",
      "2025-06-30 15:53:00,023 - INFO - ⏭️ Skip existing model: Phase 2 - self_conv_p_H0-C\n",
      "2025-06-30 15:53:00,023 - INFO - Processing waveform: p_L1-A\n",
      "2025-06-30 15:53:00,024 - INFO - ⏭️ Skip existing model: Phase 2 - self+conv_p_L1-A\n",
      "2025-06-30 15:53:00,024 - INFO - ⏭️ Skip existing model: Phase 2 - self_conv_p_L1-A\n",
      "2025-06-30 15:53:00,025 - INFO - Processing waveform: p_H0-B\n",
      "2025-06-30 15:53:00,025 - INFO - ⏭️ Skip existing model: Phase 2 - self+conv_p_H0-B\n",
      "2025-06-30 15:53:00,026 - INFO - ⏭️ Skip existing model: Phase 2 - self_conv_p_H0-B\n",
      "2025-06-30 15:53:00,026 - INFO - Processing waveform: p_H0-A\n",
      "2025-06-30 15:53:00,027 - INFO - ⏭️ Skip existing model: Phase 2 - self+conv_p_H0-A\n",
      "2025-06-30 15:53:00,028 - INFO - ⏭️ Skip existing model: Phase 2 - self_conv_p_H0-A\n",
      "2025-06-30 15:53:00,028 - INFO - Processing waveform: p_Soil_Alternative_2\n",
      "2025-06-30 15:53:00,028 - INFO - ⏭️ Skip existing model: Phase 2 - self+conv_p_Soil_Alternative_2\n",
      "2025-06-30 15:53:00,029 - INFO - ⏭️ Skip existing model: Phase 2 - self_conv_p_Soil_Alternative_2\n",
      "2025-06-30 15:53:00,029 - INFO - Processing waveform: q_L2-A\n",
      "2025-06-30 15:53:00,030 - INFO - ⏭️ Skip existing model: Phase 2 - self+conv_q_L2-A\n",
      "2025-06-30 15:53:00,030 - INFO - ⏭️ Skip existing model: Phase 2 - self_conv_q_L2-A\n",
      "2025-06-30 15:53:00,031 - INFO - Processing waveform: q_H0-C\n",
      "2025-06-30 15:53:00,031 - INFO - ⏭️ Skip existing model: Phase 2 - self+conv_q_H0-C\n",
      "2025-06-30 15:53:00,031 - INFO - ⏭️ Skip existing model: Phase 2 - self_conv_q_H0-C\n",
      "2025-06-30 15:53:00,032 - INFO - Processing waveform: q_L1-A\n",
      "2025-06-30 15:53:00,032 - INFO - ⏭️ Skip existing model: Phase 2 - self+conv_q_L1-A\n",
      "2025-06-30 15:53:00,032 - INFO - ⏭️ Skip existing model: Phase 2 - self_conv_q_L1-A\n",
      "2025-06-30 15:53:00,033 - INFO - Processing waveform: q_H0-B\n",
      "2025-06-30 15:53:00,033 - INFO - ⏭️ Skip existing model: Phase 2 - self+conv_q_H0-B\n",
      "2025-06-30 15:53:00,034 - INFO - ⏭️ Skip existing model: Phase 2 - self_conv_q_H0-B\n",
      "2025-06-30 15:53:00,034 - INFO - Processing waveform: q_H0-A\n",
      "2025-06-30 15:53:00,034 - INFO - ⏭️ Skip existing model: Phase 2 - self+conv_q_H0-A\n",
      "2025-06-30 15:53:00,035 - INFO - ⏭️ Skip existing model: Phase 2 - self_conv_q_H0-A\n",
      "2025-06-30 15:53:00,035 - INFO - Processing waveform: q_Soil_Alternative_2\n",
      "2025-06-30 15:53:00,035 - INFO - ⏭️ Skip existing model: Phase 2 - self+conv_q_Soil_Alternative_2\n",
      "2025-06-30 15:53:00,036 - INFO - ⏭️ Skip existing model: Phase 2 - self_conv_q_Soil_Alternative_2\n",
      "2025-06-30 15:53:00,036 - INFO - Processing waveform: pv_PV5\n",
      "2025-06-30 15:53:00,036 - INFO - ⏭️ Skip existing model: Phase 2 - self+conv_pv_PV5\n",
      "2025-06-30 15:53:00,037 - INFO - ⏭️ Skip existing model: Phase 2 - self_conv_pv_PV5\n",
      "2025-06-30 15:53:00,037 - INFO - Processing waveform: pv_PV8\n",
      "2025-06-30 15:53:00,037 - INFO - ⏭️ Skip existing model: Phase 2 - self+conv_pv_PV8\n",
      "2025-06-30 15:53:00,038 - INFO - ⏭️ Skip existing model: Phase 2 - self_conv_pv_PV8\n",
      "2025-06-30 15:53:00,039 - INFO - Processing waveform: pv_PV6\n",
      "2025-06-30 15:53:00,039 - INFO - ⏭️ Skip existing model: Phase 2 - self+conv_pv_PV6\n",
      "2025-06-30 15:53:00,040 - INFO - ⏭️ Skip existing model: Phase 2 - self_conv_pv_PV6\n",
      "2025-06-30 15:53:00,040 - INFO - Phase 2 completed! Success rate: 30/30\n"
     ]
    }
   ],
   "execution_count": 29
  },
  {
   "metadata": {
    "ExecuteTime": {
     "end_time": "2025-06-30T13:53:00.091534Z",
     "start_time": "2025-06-30T13:53:00.063633Z"
    }
   },
   "cell_type": "code",
   "source": [
    "def run_phase3():\n",
    "    \"\"\"Execute Phase 3 training\"\"\"\n",
    "    logger.info(\"=\"*60)\n",
    "    logger.info(\"Starting Phase 3: Generator Fine-tuning\")\n",
    "    logger.info(\"=\"*60)\n",
    "\n",
    "    success_count = 0\n",
    "    total_experiments = len(waveforms) * len(attention_types)\n",
    "\n",
    "    for waveform in waveforms:\n",
    "        logger.info(f\"Processing waveform: {waveform}\")\n",
    "\n",
    "        for key, attention in attention_types.items():\n",
    "            success = train_single_phase_experiment(3, waveform, key, attention, now, training_strategy, logger)\n",
    "            if success:\n",
    "                success_count += 1\n",
    "\n",
    "    logger.info(f\"Phase 3 completed! Success rate: {success_count}/{total_experiments}\")\n",
    "    return success_count, total_experiments\n",
    "\n",
    "# Execute Phase 3\n",
    "phase3_success, phase3_total = run_phase3()"
   ],
   "id": "7acac70e7343eb8",
   "outputs": [
    {
     "name": "stderr",
     "output_type": "stream",
     "text": [
      "2025-06-30 15:53:00,065 - INFO - ============================================================\n",
      "2025-06-30 15:53:00,066 - INFO - Starting Phase 3: Generator Fine-tuning\n",
      "2025-06-30 15:53:00,066 - INFO - ============================================================\n",
      "2025-06-30 15:53:00,066 - INFO - Processing waveform: p_L2-A\n",
      "2025-06-30 15:53:00,067 - INFO - ⏭️ Skip existing model: Phase 3 - self+conv_p_L2-A\n",
      "2025-06-30 15:53:00,067 - INFO - ⏭️ Skip existing model: Phase 3 - self_conv_p_L2-A\n",
      "2025-06-30 15:53:00,068 - INFO - Processing waveform: p_H0-C\n",
      "2025-06-30 15:53:00,068 - INFO - ⏭️ Skip existing model: Phase 3 - self+conv_p_H0-C\n",
      "2025-06-30 15:53:00,068 - INFO - ⏭️ Skip existing model: Phase 3 - self_conv_p_H0-C\n",
      "2025-06-30 15:53:00,068 - INFO - Processing waveform: p_L1-A\n",
      "2025-06-30 15:53:00,069 - INFO - ⏭️ Skip existing model: Phase 3 - self+conv_p_L1-A\n",
      "2025-06-30 15:53:00,070 - INFO - ⏭️ Skip existing model: Phase 3 - self_conv_p_L1-A\n",
      "2025-06-30 15:53:00,070 - INFO - Processing waveform: p_H0-B\n",
      "2025-06-30 15:53:00,071 - INFO - ⏭️ Skip existing model: Phase 3 - self+conv_p_H0-B\n",
      "2025-06-30 15:53:00,071 - INFO - ⏭️ Skip existing model: Phase 3 - self_conv_p_H0-B\n",
      "2025-06-30 15:53:00,072 - INFO - Processing waveform: p_H0-A\n",
      "2025-06-30 15:53:00,073 - INFO - ⏭️ Skip existing model: Phase 3 - self+conv_p_H0-A\n",
      "2025-06-30 15:53:00,074 - INFO - ⏭️ Skip existing model: Phase 3 - self_conv_p_H0-A\n",
      "2025-06-30 15:53:00,074 - INFO - Processing waveform: p_Soil_Alternative_2\n",
      "2025-06-30 15:53:00,075 - INFO - ⏭️ Skip existing model: Phase 3 - self+conv_p_Soil_Alternative_2\n",
      "2025-06-30 15:53:00,075 - INFO - ⏭️ Skip existing model: Phase 3 - self_conv_p_Soil_Alternative_2\n",
      "2025-06-30 15:53:00,075 - INFO - Processing waveform: q_L2-A\n",
      "2025-06-30 15:53:00,076 - INFO - ⏭️ Skip existing model: Phase 3 - self+conv_q_L2-A\n",
      "2025-06-30 15:53:00,076 - INFO - ⏭️ Skip existing model: Phase 3 - self_conv_q_L2-A\n",
      "2025-06-30 15:53:00,077 - INFO - Processing waveform: q_H0-C\n",
      "2025-06-30 15:53:00,077 - INFO - ⏭️ Skip existing model: Phase 3 - self+conv_q_H0-C\n",
      "2025-06-30 15:53:00,078 - INFO - ⏭️ Skip existing model: Phase 3 - self_conv_q_H0-C\n",
      "2025-06-30 15:53:00,078 - INFO - Processing waveform: q_L1-A\n",
      "2025-06-30 15:53:00,079 - INFO - ⏭️ Skip existing model: Phase 3 - self+conv_q_L1-A\n",
      "2025-06-30 15:53:00,079 - INFO - ⏭️ Skip existing model: Phase 3 - self_conv_q_L1-A\n",
      "2025-06-30 15:53:00,080 - INFO - Processing waveform: q_H0-B\n",
      "2025-06-30 15:53:00,080 - INFO - ⏭️ Skip existing model: Phase 3 - self+conv_q_H0-B\n",
      "2025-06-30 15:53:00,081 - INFO - ⏭️ Skip existing model: Phase 3 - self_conv_q_H0-B\n",
      "2025-06-30 15:53:00,081 - INFO - Processing waveform: q_H0-A\n",
      "2025-06-30 15:53:00,082 - INFO - ⏭️ Skip existing model: Phase 3 - self+conv_q_H0-A\n",
      "2025-06-30 15:53:00,083 - INFO - ⏭️ Skip existing model: Phase 3 - self_conv_q_H0-A\n",
      "2025-06-30 15:53:00,084 - INFO - Processing waveform: q_Soil_Alternative_2\n",
      "2025-06-30 15:53:00,084 - INFO - ⏭️ Skip existing model: Phase 3 - self+conv_q_Soil_Alternative_2\n",
      "2025-06-30 15:53:00,085 - INFO - ⏭️ Skip existing model: Phase 3 - self_conv_q_Soil_Alternative_2\n",
      "2025-06-30 15:53:00,085 - INFO - Processing waveform: pv_PV5\n",
      "2025-06-30 15:53:00,086 - INFO - ⏭️ Skip existing model: Phase 3 - self+conv_pv_PV5\n",
      "2025-06-30 15:53:00,087 - INFO - ⏭️ Skip existing model: Phase 3 - self_conv_pv_PV5\n",
      "2025-06-30 15:53:00,087 - INFO - Processing waveform: pv_PV8\n",
      "2025-06-30 15:53:00,088 - INFO - ⏭️ Skip existing model: Phase 3 - self+conv_pv_PV8\n",
      "2025-06-30 15:53:00,088 - INFO - ⏭️ Skip existing model: Phase 3 - self_conv_pv_PV8\n",
      "2025-06-30 15:53:00,088 - INFO - Processing waveform: pv_PV6\n",
      "2025-06-30 15:53:00,089 - INFO - ⏭️ Skip existing model: Phase 3 - self+conv_pv_PV6\n",
      "2025-06-30 15:53:00,089 - INFO - ⏭️ Skip existing model: Phase 3 - self_conv_pv_PV6\n",
      "2025-06-30 15:53:00,090 - INFO - Phase 3 completed! Success rate: 30/30\n"
     ]
    }
   ],
   "execution_count": 30
  },
  {
   "metadata": {
    "ExecuteTime": {
     "end_time": "2025-06-30T13:53:00.122938Z",
     "start_time": "2025-06-30T13:53:00.120658Z"
    }
   },
   "cell_type": "code",
   "source": "",
   "id": "d1005c9f200e16d",
   "outputs": [],
   "execution_count": null
  }
 ],
 "metadata": {
  "kernelspec": {
   "display_name": "Python 3",
   "language": "python",
   "name": "python3"
  },
  "language_info": {
   "codemirror_mode": {
    "name": "ipython",
    "version": 2
   },
   "file_extension": ".py",
   "mimetype": "text/x-python",
   "name": "python",
   "nbconvert_exporter": "python",
   "pygments_lexer": "ipython2",
   "version": "2.7.6"
  }
 },
 "nbformat": 4,
 "nbformat_minor": 5
}
